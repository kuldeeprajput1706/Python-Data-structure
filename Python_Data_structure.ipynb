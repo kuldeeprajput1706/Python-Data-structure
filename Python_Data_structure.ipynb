{
  "nbformat": 4,
  "nbformat_minor": 0,
  "metadata": {
    "colab": {
      "provenance": []
    },
    "kernelspec": {
      "name": "python3",
      "display_name": "Python 3"
    },
    "language_info": {
      "name": "python"
    }
  },
  "cells": [
    {
      "cell_type": "code",
      "execution_count": null,
      "metadata": {
        "id": "ic9Fle6CZ7ho"
      },
      "outputs": [],
      "source": []
    },
    {
      "cell_type": "markdown",
      "source": [
        "#Python Data structure\n"
      ],
      "metadata": {
        "id": "Tp8xdGkwZ_UP"
      }
    },
    {
      "cell_type": "markdown",
      "source": [
        "- 1.What are data structures, and why are they important?\n",
        "  \n",
        "  Data structures are ways of organizing and storing data to perform operations efficiently. They're crucial because they optimize data management, retrieval, and modification, improving performance in software applications.\n",
        "\n",
        "- 2.Explain the difference between mutable and immutable data types with examples.\n",
        "\n",
        "  Mutable: Can be changed after creation (e.g., lists: my_list = [1, 2], then my_list[0] = 3).\n",
        "\n",
        "  Immutable: Cannot be changed after creation (e.g., tuples: my_tuple = (1, 2); my_tuple[0] = 3 raises an error).\n",
        "\n",
        "- 3.What are the main differences between lists and tuples in Python?\n",
        "\n",
        " Lists: Mutable, dynamic, slower, use more memory.\n",
        "\n",
        " Tuples: Immutable, faster, memory-efficient, used for fixed collections.\n",
        "\n",
        "- 4.Describe how dictionaries store data.\n",
        "\n",
        " Dictionaries store data as key-value pairs. Internally, they use a hash table, which maps keys to values via a hashing function.\n",
        "\n",
        "- 5.Why might you use a set instead of a list in Python?\n",
        "\n",
        "  To remove duplicates automatically.\n",
        "\n",
        "  To perform set operations like union, intersection, etc.\n",
        "\n",
        "  Faster membership checks (in operator).\n",
        "\n",
        "- 6.What is a string in Python, and how is it different from a list?\n",
        "\n",
        "  A string is an immutable sequence of characters, while a list is a mutable sequence of any data type. Strings can't be modified after creation.\n",
        "\n",
        "- 7.How do tuples ensure data integrity in Python?\n",
        "  \n",
        "  By being immutable, tuples prevent accidental modification of data, making them ideal for constant sets of values.\n",
        "\n",
        "- 8.What is a hash table, and how does it relate to dictionaries in Python?\n",
        "  \n",
        "  A hash table is a data structure that maps keys to values using a hash function. Python dictionaries use hash tables for fast data access.\n",
        "\n",
        "- 9.Can lists contain different data types in Python?\n",
        "  \n",
        "  Yes, Python lists are heterogeneous, meaning they can contain elements of different types (e.g., [1, \"a\", 3.5]).\n",
        "\n",
        "- 10.Explain why strings are immutable in Python.\n",
        "\n",
        " Strings are immutable to ensure memory efficiency and safety in multi-threaded environments and to allow string interning.\n",
        "\n",
        "- 11.What advantages do dictionaries offer over lists for certain tasks?\n",
        "Dictionaries offer:\n",
        "\n",
        "  Faster lookup using keys.\n",
        "\n",
        "  Clearer mapping between data (e.g., names and phone numbers).\n",
        "\n",
        "  Constant-time average access time.\n",
        "\n",
        "- 12.Describe a scenario where using a tuple would be preferable over a list.\n",
        "\n",
        " When returning multiple values from a function that shouldn't be modified, a tuple ensures integrity.\n",
        "\n",
        "- 13.How do sets handle duplicate values in Python?\n",
        "  \n",
        "  Sets automatically remove duplicates, storing only unique elements.\n",
        "\n",
        "- 14.How does the “in” keyword work differently for lists and dictionaries?\n",
        "\n",
        "  In lists, in checks for presence of a value.\n",
        "\n",
        "\n",
        "  In dictionaries, in checks for presence of a key, not value.\n",
        "\n",
        "- 15.Can you modify the elements of a tuple? Explain why or why not.\n",
        "\n",
        " No, tuples are immutable. Once created, their elements cannot be changed, added, or removed.\n",
        "\n",
        "- 16.What is a nested dictionary, and give an\n",
        "  example of its use case?\n",
        "\n",
        "  A nested dictionary contains dictionaries as values:\n",
        "\n",
        "\n",
        "   students = { \"Alice\": {\"age\": 20, \"grade\": \"A\"},\n",
        "  \"Bob\": {\"age\": 22, \"grade\": \"B\"}}\n",
        "\n",
        "   Use case: storing structured data like records or JSON objects.\n",
        "\n",
        "- 17.Describe the time complexity of accessing elements in a dictionary.\n",
        "\n",
        " Average-case O(1) (constant time), due to hash table implementation.\n",
        "\n",
        "- 18.In what situations are lists preferred over dictionaries?\n",
        "\n",
        " When order matters.\n",
        "\n",
        " When storing collections of similar items.\n",
        "\n",
        " When no unique keys are needed.\n",
        "\n",
        "- 19.Why are dictionaries considered unordered, and how does that affect data retrieval?\n",
        "\n",
        " In older versions of Python (<3.7), dictionaries were unordered. In 3.7+, insertion order is preserved, but conceptually, they focus on key-based access, not sequence.\n",
        "\n",
        "- 20.Explain the difference between a list and a dictionary in terms of data retrieval.\n",
        "\n",
        " List: Access by index (e.g., my_list[2]).\n",
        "\n",
        "  Dictionary: Access by key (e.g., my_dict[\"name\"]), which is generally faster for large datasets\n",
        "\n",
        "\n",
        "  #Practical questioins\n",
        "\n",
        "  - 1. Create a string with your name and print it"
      ],
      "metadata": {
        "id": "NsVBMOG5aI_V"
      }
    },
    {
      "cell_type": "code",
      "source": [
        "name = \"Kuldeep\"\n",
        "print(name)"
      ],
      "metadata": {
        "id": "ittfKuqKeVTv",
        "colab": {
          "base_uri": "https://localhost:8080/"
        },
        "outputId": "db1bc61d-d8e5-4032-8b96-d87c3f34a3c1"
      },
      "execution_count": 4,
      "outputs": [
        {
          "output_type": "stream",
          "name": "stdout",
          "text": [
            "Kuldeep\n"
          ]
        }
      ]
    },
    {
      "cell_type": "markdown",
      "source": [
        "- 2.Find the length of the string \"Hello World\""
      ],
      "metadata": {
        "id": "tEga6lqoewlG"
      }
    },
    {
      "cell_type": "code",
      "source": [
        "string = \"Hello World\"\n",
        "print(len(string))"
      ],
      "metadata": {
        "id": "eWYPM_ZAe8_N",
        "colab": {
          "base_uri": "https://localhost:8080/"
        },
        "outputId": "5256bf65-3c14-4e3f-fd19-40be85a0c978"
      },
      "execution_count": 2,
      "outputs": [
        {
          "output_type": "stream",
          "name": "stdout",
          "text": [
            "11\n"
          ]
        }
      ]
    },
    {
      "cell_type": "markdown",
      "source": [
        "- 3.Slice the first 3 characters from the string \"Python Programming\""
      ],
      "metadata": {
        "id": "F2zca2JOfFUt"
      }
    },
    {
      "cell_type": "code",
      "source": [
        "text = \"Python Programming\"\n",
        "print(text[:3])"
      ],
      "metadata": {
        "colab": {
          "base_uri": "https://localhost:8080/"
        },
        "id": "xFH-o83bfPG_",
        "outputId": "f211e4d2-277f-4104-a9a2-966b887d1e3f"
      },
      "execution_count": 3,
      "outputs": [
        {
          "output_type": "stream",
          "name": "stdout",
          "text": [
            "Pyt\n"
          ]
        }
      ]
    },
    {
      "cell_type": "markdown",
      "source": [
        "- 4. Convert the string \"hello\" to uppercase\n",
        "\n",
        "\n"
      ],
      "metadata": {
        "id": "vH3FnzDgU5at"
      }
    },
    {
      "cell_type": "code",
      "source": [
        "greeting = \"hello\"\n",
        "print(greeting.upper())"
      ],
      "metadata": {
        "colab": {
          "base_uri": "https://localhost:8080/"
        },
        "id": "rORCNgViVEV2",
        "outputId": "abed909c-e12d-4cff-9ffc-724dacf817f1"
      },
      "execution_count": 5,
      "outputs": [
        {
          "output_type": "stream",
          "name": "stdout",
          "text": [
            "HELLO\n"
          ]
        }
      ]
    },
    {
      "cell_type": "markdown",
      "source": [
        "- 5.Replace the word \"apple\" with \"orange\" in the string \"I like apple"
      ],
      "metadata": {
        "id": "nD14M134VNFV"
      }
    },
    {
      "cell_type": "code",
      "source": [
        "sentence = \"I like apple\"\n",
        "print(sentence.replace(\"apple\", \"orange\"))"
      ],
      "metadata": {
        "colab": {
          "base_uri": "https://localhost:8080/"
        },
        "id": "KsQFIhSfVT8U",
        "outputId": "f2da7956-6eee-4a7f-9f3a-aac63982c31d"
      },
      "execution_count": 6,
      "outputs": [
        {
          "output_type": "stream",
          "name": "stdout",
          "text": [
            "I like orange\n"
          ]
        }
      ]
    },
    {
      "cell_type": "markdown",
      "source": [
        "- 6.Create a list with numbers 1 to 5 and print it"
      ],
      "metadata": {
        "id": "dO5jkyhvVZRF"
      }
    },
    {
      "cell_type": "code",
      "source": [
        "numbers = [1, 2, 3, 4, 5]\n",
        "print(numbers)"
      ],
      "metadata": {
        "colab": {
          "base_uri": "https://localhost:8080/"
        },
        "id": "xyaJI6hjVeq9",
        "outputId": "a3363f04-a955-490d-b9f6-d8ed99d5fa5c"
      },
      "execution_count": 7,
      "outputs": [
        {
          "output_type": "stream",
          "name": "stdout",
          "text": [
            "[1, 2, 3, 4, 5]\n"
          ]
        }
      ]
    },
    {
      "cell_type": "markdown",
      "source": [
        "- 7.Append the number 10 to the list [1, 2, 3, 4]"
      ],
      "metadata": {
        "id": "zdXMzJhyVolM"
      }
    },
    {
      "cell_type": "code",
      "source": [
        "lst = [1, 2, 3, 4]\n",
        "lst.append(10)\n",
        "print(lst)"
      ],
      "metadata": {
        "colab": {
          "base_uri": "https://localhost:8080/"
        },
        "id": "cUxP17rzV96t",
        "outputId": "e6607707-fa7c-4ef0-9743-965addcb00ff"
      },
      "execution_count": 8,
      "outputs": [
        {
          "output_type": "stream",
          "name": "stdout",
          "text": [
            "[1, 2, 3, 4, 10]\n"
          ]
        }
      ]
    },
    {
      "cell_type": "markdown",
      "source": [
        "- 8.Remove the number 3 from the list [1, 2, 3, 4, 5]"
      ],
      "metadata": {
        "id": "0xrzL5L-WCrP"
      }
    },
    {
      "cell_type": "code",
      "source": [
        "lst = [1, 2, 3, 4, 5]\n",
        "lst.remove(3)\n",
        "print(lst)"
      ],
      "metadata": {
        "colab": {
          "base_uri": "https://localhost:8080/"
        },
        "id": "YWxFM0KFVrPs",
        "outputId": "f21454ee-a9ad-4bde-a4c2-9c19bf2dbaae"
      },
      "execution_count": 9,
      "outputs": [
        {
          "output_type": "stream",
          "name": "stdout",
          "text": [
            "[1, 2, 4, 5]\n"
          ]
        }
      ]
    },
    {
      "cell_type": "markdown",
      "source": [
        "- 9.Access the second element in the list ['a', 'b', 'c', 'd']"
      ],
      "metadata": {
        "id": "eJTM-yKaWM_W"
      }
    },
    {
      "cell_type": "code",
      "source": [
        "chars = ['a', 'b', 'c', 'd']\n",
        "print(chars[1])"
      ],
      "metadata": {
        "colab": {
          "base_uri": "https://localhost:8080/"
        },
        "id": "wb5oeL0uWPSs",
        "outputId": "696dfa9f-c78b-49e5-85ef-3d2e2c052dde"
      },
      "execution_count": 11,
      "outputs": [
        {
          "output_type": "stream",
          "name": "stdout",
          "text": [
            "b\n"
          ]
        }
      ]
    },
    {
      "cell_type": "markdown",
      "source": [
        "- 10.Reverse the list [10, 20, 30, 40, 50"
      ],
      "metadata": {
        "id": "WLrPPXD3WZTd"
      }
    },
    {
      "cell_type": "code",
      "source": [
        "lst = [10, 20, 30, 40, 50]\n",
        "lst.reverse()\n",
        "print(lst)"
      ],
      "metadata": {
        "colab": {
          "base_uri": "https://localhost:8080/"
        },
        "id": "thf7TQm2WgR8",
        "outputId": "27625804-6de8-46a2-aef7-7d8321398a08"
      },
      "execution_count": 12,
      "outputs": [
        {
          "output_type": "stream",
          "name": "stdout",
          "text": [
            "[50, 40, 30, 20, 10]\n"
          ]
        }
      ]
    },
    {
      "cell_type": "markdown",
      "source": [
        "- 11.Create a tuple with the elements 100, 200, 300 and print it\n",
        "\n",
        "\n"
      ],
      "metadata": {
        "id": "dryUbuDYWieO"
      }
    },
    {
      "cell_type": "code",
      "source": [
        "t = (100, 200, 300)\n",
        "print(t)"
      ],
      "metadata": {
        "colab": {
          "base_uri": "https://localhost:8080/"
        },
        "id": "zn0rcumHXDb-",
        "outputId": "79c399ac-f54f-4baa-e9e5-60f0346ed603"
      },
      "execution_count": 13,
      "outputs": [
        {
          "output_type": "stream",
          "name": "stdout",
          "text": [
            "(100, 200, 300)\n"
          ]
        }
      ]
    },
    {
      "cell_type": "markdown",
      "source": [
        "- 12.Access the second-to-last element of the tuple"
      ],
      "metadata": {
        "id": "swp3dyaXXHsF"
      }
    },
    {
      "cell_type": "code",
      "source": [
        "colors = ('red', 'green', 'blue', 'yellow')\n",
        "print(colors[-2])"
      ],
      "metadata": {
        "colab": {
          "base_uri": "https://localhost:8080/"
        },
        "id": "cIL698wCXOHk",
        "outputId": "0e73440d-e761-4c0b-a2a8-2e413f8c0883"
      },
      "execution_count": 14,
      "outputs": [
        {
          "output_type": "stream",
          "name": "stdout",
          "text": [
            "blue\n"
          ]
        }
      ]
    },
    {
      "cell_type": "markdown",
      "source": [
        "- 13.Find the minimum number in the tuple (10, 20, 5, 15)"
      ],
      "metadata": {
        "id": "zEexspnxXWgm"
      }
    },
    {
      "cell_type": "code",
      "source": [
        "nums = (10, 20, 5, 15)\n",
        "print(min(nums))"
      ],
      "metadata": {
        "colab": {
          "base_uri": "https://localhost:8080/"
        },
        "id": "3oWByYuAXanN",
        "outputId": "4bc32339-ef2f-47a9-9025-15df6200d5b0"
      },
      "execution_count": 15,
      "outputs": [
        {
          "output_type": "stream",
          "name": "stdout",
          "text": [
            "5\n"
          ]
        }
      ]
    },
    {
      "cell_type": "markdown",
      "source": [
        "- 14.Find the index of the element \"cat\" in the tuple"
      ],
      "metadata": {
        "id": "_fIbCuonXeC8"
      }
    },
    {
      "cell_type": "code",
      "source": [
        "animals = ('dog', 'cat', 'rabbit')\n",
        "print(animals.index('cat'))"
      ],
      "metadata": {
        "colab": {
          "base_uri": "https://localhost:8080/"
        },
        "id": "4RbdtdSkXo5O",
        "outputId": "95992e8c-da18-4fd4-c904-3c419e3e3450"
      },
      "execution_count": 16,
      "outputs": [
        {
          "output_type": "stream",
          "name": "stdout",
          "text": [
            "1\n"
          ]
        }
      ]
    },
    {
      "cell_type": "markdown",
      "source": [
        "- 15.Create a tuple with 3 fruits and check if \"kiwi\" is in it"
      ],
      "metadata": {
        "id": "ix1PalCoXslF"
      }
    },
    {
      "cell_type": "code",
      "source": [
        "fruits = ('apple', 'banana', 'orange')\n",
        "print('kiwi' in fruits)"
      ],
      "metadata": {
        "colab": {
          "base_uri": "https://localhost:8080/"
        },
        "id": "OIVYpXmjYKFW",
        "outputId": "a1a5dcca-1271-49bb-faf7-964a259711a8"
      },
      "execution_count": 17,
      "outputs": [
        {
          "output_type": "stream",
          "name": "stdout",
          "text": [
            "False\n"
          ]
        }
      ]
    },
    {
      "cell_type": "markdown",
      "source": [
        "- 16.Create a set with the elements {'a', 'b', 'c'} and print it"
      ],
      "metadata": {
        "id": "bc_cuGFgYPgW"
      }
    },
    {
      "cell_type": "code",
      "source": [
        "s = {'a', 'b', 'c'}\n",
        "print(s)"
      ],
      "metadata": {
        "colab": {
          "base_uri": "https://localhost:8080/"
        },
        "id": "5d8D34HvYW2m",
        "outputId": "bf2f7c00-08c4-4e48-929e-bd8318c75b59"
      },
      "execution_count": 18,
      "outputs": [
        {
          "output_type": "stream",
          "name": "stdout",
          "text": [
            "{'b', 'c', 'a'}\n"
          ]
        }
      ]
    },
    {
      "cell_type": "markdown",
      "source": [
        "- 17.Clear all elements from the set {1, 2, 3, 4, 5}"
      ],
      "metadata": {
        "id": "bkV4aJOJYc1G"
      }
    },
    {
      "cell_type": "code",
      "source": [
        "s = {1, 2, 3, 4, 5}\n",
        "s.clear()\n",
        "print(s)"
      ],
      "metadata": {
        "colab": {
          "base_uri": "https://localhost:8080/"
        },
        "id": "Kk3Mr623Yh9F",
        "outputId": "1fba96a5-af60-4ee6-ee84-2305cd1b9a4d"
      },
      "execution_count": 19,
      "outputs": [
        {
          "output_type": "stream",
          "name": "stdout",
          "text": [
            "set()\n"
          ]
        }
      ]
    },
    {
      "cell_type": "markdown",
      "source": [
        "- 18.Remove the element 4 from the set\n",
        "\n"
      ],
      "metadata": {
        "id": "kJ1TzXGVYprG"
      }
    },
    {
      "cell_type": "code",
      "source": [
        "s = {1, 2, 3, 4}\n",
        "s.remove(4)\n",
        "print(s)"
      ],
      "metadata": {
        "colab": {
          "base_uri": "https://localhost:8080/"
        },
        "id": "vr3aRR4XYtkU",
        "outputId": "eadc8c31-d4c0-4db7-d839-67d808dcf9a9"
      },
      "execution_count": 20,
      "outputs": [
        {
          "output_type": "stream",
          "name": "stdout",
          "text": [
            "{1, 2, 3}\n"
          ]
        }
      ]
    },
    {
      "cell_type": "markdown",
      "source": [
        "::- 19.Find the union of two sets"
      ],
      "metadata": {
        "id": "uE-ijsygY2Dc"
      }
    },
    {
      "cell_type": "code",
      "source": [
        "a = {1, 2, 3}\n",
        "b = {3, 4, 5}\n",
        "print(a.union(b))"
      ],
      "metadata": {
        "colab": {
          "base_uri": "https://localhost:8080/"
        },
        "id": "D7S1kb8-Y7L0",
        "outputId": "50ecdb17-bcd8-47e6-9c96-ff4370a4acfb"
      },
      "execution_count": 21,
      "outputs": [
        {
          "output_type": "stream",
          "name": "stdout",
          "text": [
            "{1, 2, 3, 4, 5}\n"
          ]
        }
      ]
    },
    {
      "cell_type": "markdown",
      "source": [
        "- 20.Find the intersection of two sets"
      ],
      "metadata": {
        "id": "g5uJQa6sZA2V"
      }
    },
    {
      "cell_type": "code",
      "source": [
        "a = {1, 2, 3}\n",
        "b = {2, 3, 4}\n",
        "print(a.intersection(b))"
      ],
      "metadata": {
        "colab": {
          "base_uri": "https://localhost:8080/"
        },
        "id": "_zqS0SlRZDm_",
        "outputId": "7e71b5ed-2d47-4a31-ef1a-ed47e0e4cb14"
      },
      "execution_count": 22,
      "outputs": [
        {
          "output_type": "stream",
          "name": "stdout",
          "text": [
            "{2, 3}\n"
          ]
        }
      ]
    },
    {
      "cell_type": "markdown",
      "source": [
        "- 21.Create a dictionary with keys 'name', 'age', 'city'"
      ],
      "metadata": {
        "id": "dFG6GrrNZI81"
      }
    },
    {
      "cell_type": "code",
      "source": [
        "person = {'name': 'John', 'age': 25, 'city': 'New York'}\n",
        "print(person)"
      ],
      "metadata": {
        "colab": {
          "base_uri": "https://localhost:8080/"
        },
        "id": "yWmCoEKwZQ3s",
        "outputId": "943b85aa-7b13-4710-a780-450e0b1854d3"
      },
      "execution_count": 23,
      "outputs": [
        {
          "output_type": "stream",
          "name": "stdout",
          "text": [
            "{'name': 'John', 'age': 25, 'city': 'New York'}\n"
          ]
        }
      ]
    },
    {
      "cell_type": "markdown",
      "source": [
        "- 22.Add new key–value pair 'country': 'USA'"
      ],
      "metadata": {
        "id": "CASSEN2xZVEG"
      }
    },
    {
      "cell_type": "code",
      "source": [
        "person['country'] = 'USA'\n",
        "print(person)"
      ],
      "metadata": {
        "colab": {
          "base_uri": "https://localhost:8080/"
        },
        "id": "McfrY1F6XpNa",
        "outputId": "94750962-e2f5-443e-b11d-b3eb62e37b1a"
      },
      "execution_count": 24,
      "outputs": [
        {
          "output_type": "stream",
          "name": "stdout",
          "text": [
            "{'name': 'John', 'age': 25, 'city': 'New York', 'country': 'USA'}\n"
          ]
        }
      ]
    },
    {
      "cell_type": "markdown",
      "source": [
        "- 23.Access the value associated with the key 'name'"
      ],
      "metadata": {
        "id": "_hajojnnZe1N"
      }
    },
    {
      "cell_type": "code",
      "source": [
        "data = {'name': 'Alice', 'age': 30}\n",
        "print(data['name'])"
      ],
      "metadata": {
        "colab": {
          "base_uri": "https://localhost:8080/"
        },
        "id": "MmsRii1qZjuc",
        "outputId": "e5b2532c-241e-4c24-9fce-2ce6dfa7d3dc"
      },
      "execution_count": 25,
      "outputs": [
        {
          "output_type": "stream",
          "name": "stdout",
          "text": [
            "Alice\n"
          ]
        }
      ]
    },
    {
      "cell_type": "markdown",
      "source": [
        "- 24.Remove the key 'age'"
      ],
      "metadata": {
        "id": "PbKbGz6eZnpV"
      }
    },
    {
      "cell_type": "code",
      "source": [
        "data = {'name': 'Bob', 'age': 22, 'city': 'New York'}\n",
        "data.pop('age')\n",
        "print(data)"
      ],
      "metadata": {
        "colab": {
          "base_uri": "https://localhost:8080/"
        },
        "id": "CwfRq5i0ZpyE",
        "outputId": "7a2b83ad-40ac-4b04-83f9-360afe340f11"
      },
      "execution_count": 26,
      "outputs": [
        {
          "output_type": "stream",
          "name": "stdout",
          "text": [
            "{'name': 'Bob', 'city': 'New York'}\n"
          ]
        }
      ]
    },
    {
      "cell_type": "markdown",
      "source": [
        "- 25. Check if 'city' exists in the dictionary"
      ],
      "metadata": {
        "id": "MbceoBHuZxJc"
      }
    },
    {
      "cell_type": "code",
      "source": [
        "info = {'name': 'Alice', 'city': 'Paris'}\n",
        "print('city' in info)"
      ],
      "metadata": {
        "colab": {
          "base_uri": "https://localhost:8080/"
        },
        "id": "_ziUt0lLZztV",
        "outputId": "96360cb8-4f67-4baa-8df4-49f3a62d7947"
      },
      "execution_count": 27,
      "outputs": [
        {
          "output_type": "stream",
          "name": "stdout",
          "text": [
            "True\n"
          ]
        }
      ]
    },
    {
      "cell_type": "markdown",
      "source": [],
      "metadata": {
        "id": "CjywxpgHVjJm"
      }
    },
    {
      "cell_type": "markdown",
      "source": [
        "- 26.Create and print a list, tuple, and dictionary"
      ],
      "metadata": {
        "id": "45cTNjbKZ8XM"
      }
    },
    {
      "cell_type": "code",
      "source": [
        "l = [1, 2, 3]\n",
        "t = (4, 5, 6)\n",
        "d = {'a': 7, 'b': 8}\n",
        "print(l, t, d)"
      ],
      "metadata": {
        "colab": {
          "base_uri": "https://localhost:8080/"
        },
        "id": "w2rJTWrKaCws",
        "outputId": "51755a51-700d-41a6-ac90-1f9931fe5149"
      },
      "execution_count": 28,
      "outputs": [
        {
          "output_type": "stream",
          "name": "stdout",
          "text": [
            "[1, 2, 3] (4, 5, 6) {'a': 7, 'b': 8}\n"
          ]
        }
      ]
    },
    {
      "cell_type": "markdown",
      "source": [
        "- 27.Create a list of 5 random numbers between 1 and 100, sort ascending, print result"
      ],
      "metadata": {
        "id": "7qrWLes-aHQ8"
      }
    },
    {
      "cell_type": "code",
      "source": [
        "import random\n",
        "nums = random.sample(range(1, 101), 5)\n",
        "nums.sort()\n",
        "print(nums)"
      ],
      "metadata": {
        "colab": {
          "base_uri": "https://localhost:8080/"
        },
        "id": "sWhL-vMdaLBU",
        "outputId": "aa84ed18-4f64-4537-e439-1b387e7aebbf"
      },
      "execution_count": 29,
      "outputs": [
        {
          "output_type": "stream",
          "name": "stdout",
          "text": [
            "[12, 17, 21, 30, 85]\n"
          ]
        }
      ]
    },
    {
      "cell_type": "markdown",
      "source": [
        "- 28. Create a list with strings and print third element"
      ],
      "metadata": {
        "id": "YthvbTEDaQ1l"
      }
    },
    {
      "cell_type": "code",
      "source": [
        "words = ['apple', 'banana', 'cherry', 'date']\n",
        "print(words[2])"
      ],
      "metadata": {
        "colab": {
          "base_uri": "https://localhost:8080/"
        },
        "id": "hQtpOnViaTUk",
        "outputId": "07a43e8d-bdbe-442c-b618-d77b4175a5ef"
      },
      "execution_count": 30,
      "outputs": [
        {
          "output_type": "stream",
          "name": "stdout",
          "text": [
            "cherry\n"
          ]
        }
      ]
    },
    {
      "cell_type": "markdown",
      "source": [
        "- 29.Combine two dictionaries into one"
      ],
      "metadata": {
        "id": "x0-uFY42aZ62"
      }
    },
    {
      "cell_type": "code",
      "source": [
        "dict1 = {'a': 1, 'b': 2}\n",
        "dict2 = {'c': 3, 'd': 4}\n",
        "combined = {**dict1, **dict2}\n",
        "print(combined)"
      ],
      "metadata": {
        "colab": {
          "base_uri": "https://localhost:8080/"
        },
        "id": "l8xJo3Kiad1-",
        "outputId": "27f239b7-716b-4a90-a229-bc2d31eca172"
      },
      "execution_count": 31,
      "outputs": [
        {
          "output_type": "stream",
          "name": "stdout",
          "text": [
            "{'a': 1, 'b': 2, 'c': 3, 'd': 4}\n"
          ]
        }
      ]
    },
    {
      "cell_type": "markdown",
      "source": [
        "- 30.Convert a list of strings into a set"
      ],
      "metadata": {
        "id": "QEPAyNX5ahPF"
      }
    },
    {
      "cell_type": "code",
      "source": [
        "lst = ['a', 'b', 'a', 'c']\n",
        "print(set(lst))"
      ],
      "metadata": {
        "colab": {
          "base_uri": "https://localhost:8080/"
        },
        "id": "begAdi9OamdF",
        "outputId": "3e3e905a-6f49-47c7-b026-18f60bb5963a"
      },
      "execution_count": 32,
      "outputs": [
        {
          "output_type": "stream",
          "name": "stdout",
          "text": [
            "{'b', 'c', 'a'}\n"
          ]
        }
      ]
    },
    {
      "cell_type": "markdown",
      "source": [],
      "metadata": {
        "id": "tTaplHggVn0N"
      }
    },
    {
      "cell_type": "markdown",
      "source": [],
      "metadata": {
        "id": "uMJFOwmse4z1"
      }
    },
    {
      "cell_type": "code",
      "source": [],
      "metadata": {
        "id": "1Bv-w2dpfAEl"
      },
      "execution_count": null,
      "outputs": []
    },
    {
      "cell_type": "code",
      "source": [],
      "metadata": {
        "id": "fn8ZbZzFfAuO"
      },
      "execution_count": null,
      "outputs": []
    }
  ]
}