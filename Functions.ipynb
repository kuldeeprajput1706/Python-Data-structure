{
  "nbformat": 4,
  "nbformat_minor": 0,
  "metadata": {
    "colab": {
      "provenance": [],
      "authorship_tag": "ABX9TyMKKoVlBzClM8bA8cArrFvl",
      "include_colab_link": true
    },
    "kernelspec": {
      "name": "python3",
      "display_name": "Python 3"
    },
    "language_info": {
      "name": "python"
    }
  },
  "cells": [
    {
      "cell_type": "markdown",
      "metadata": {
        "id": "view-in-github",
        "colab_type": "text"
      },
      "source": [
        "<a href=\"https://colab.research.google.com/github/kuldeeprajput1706/Python-Data-structure/blob/main/Functions.ipynb\" target=\"_parent\"><img src=\"https://colab.research.google.com/assets/colab-badge.svg\" alt=\"Open In Colab\"/></a>"
      ]
    },
    {
      "cell_type": "markdown",
      "source": [
        "# Theory Questions"
      ],
      "metadata": {
        "id": "5ACYrFlga1I8"
      }
    },
    {
      "cell_type": "code",
      "execution_count": null,
      "metadata": {
        "id": "WtO-ulVmV68I"
      },
      "outputs": [],
      "source": []
    },
    {
      "cell_type": "markdown",
      "source": [
        "- 1.Difference between a Function and a Method in Python:\n",
        "  \n",
        "  Function is defined using def keyword and is independent.\n",
        "\n",
        "  Method is associated with an object (e.g., list, string).\n",
        "\n",
        "  Example:\n",
        "\n",
        " def add(x, y):\n",
        "    return x + y\n",
        "\n",
        " print(\"hello\".upper())  # `upper()` is a method of string"
      ],
      "metadata": {
        "id": "1wOljz6sV-B0"
      }
    },
    {
      "cell_type": "markdown",
      "source": [
        "\n",
        "- 2.Function Arguments and Parameters:\n",
        "\n",
        "  Parameters are variables in function definition.\n",
        "\n",
        "  Arguments are actual values passed.\n",
        "\n",
        "  Example:\n",
        "\n",
        "\n",
        "    def greet(name):  # name is a parameter\n",
        "    print(f\"Hello, {name}\")\n",
        "\n",
        "    greet(\"Alice\")  # \"Alice\" is an argument\n",
        "\n",
        "- 3. Ways to Define and Call a Function:\n",
        "Normal function:\n",
        "\n",
        "   def square(x):\n",
        "    \n",
        "    return x * x\n",
        "    \n",
        "    square(5)\n",
        "    \n",
        "    Lambda function:\n",
        "\n",
        "    square = lambda x: x * x\n",
        "    \n",
        "    square(5)\n",
        "\n",
        "- 4.Purpose of return Statement:\n",
        "To send result back to the caller and exit function.\n",
        "\n",
        " Example:\n",
        "\n",
        "\n",
        "  def multiply(a, b):\n",
        "    \n",
        "    return a * b\n",
        "\n",
        "- 5.Iterators vs Iterables:\n",
        "\n",
        " Iterable: Object you can iterate over (e.g., list, string).\n",
        "\n",
        " Iterator: Object with __next__() and __iter__().\n",
        "\n",
        "  Example:\n",
        "\n",
        "\n",
        "  nums = [1, 2, 3]  # Iterable\n",
        "  \n",
        "  it = iter(nums)  # Iterator\n",
        "  \n",
        "  next(it)\n",
        "\n",
        "- 6. Generators in Python:\n",
        "Functions that yield values one at a time using yield.\n",
        "\n",
        " Example:\n",
        "\n",
        "\n",
        " def countdown(n):\n",
        "    \n",
        "    while n > 0:\n",
        "        \n",
        "        yield n\n",
        "        \n",
        "        n -= 1\n",
        "\n",
        "- 7.Advantages of Generators:\n",
        "\n",
        " Memory efficient (lazy evaluation)\n",
        "\n",
        "\n",
        " Faster for large data\n",
        "\n",
        "\n",
        " Simplifies code using yield\n",
        "\n",
        "- 8.Lambda Function and Typical Use:\n",
        "\n",
        " Anonymous one-line function. Example:\n",
        "\n",
        "\n",
        "  \n",
        " square = lambda x: x * x\n",
        "\n",
        "  Used in map, filter, or quick operations.\n",
        "\n",
        "- 9.Purpose and Usage of map():\n",
        "\n",
        " Applies a function to all items in an iterable.\n",
        "\n",
        " Example:\n",
        "\n",
        "\n",
        "  nums = [1, 2, 3]\n",
        "  \n",
        "  squares = list(map(lambda x: x*x, nums))\n",
        "\n",
        "\n",
        "- 10.Difference between map(), reduce(), filter():\n",
        "\n",
        "  map(): Transforms each item.\n",
        "\n",
        "\n",
        "  filter(): Filters items by condition.\n",
        "\n",
        "  reduce(): Aggregates values to a single result.\n",
        "\n",
        "  Example:\n",
        "\n",
        "\n",
        "  from functools import reduce\n",
        "\n",
        "  nums = [1, 2, 3, 4]\n",
        "\n",
        "  reduce(lambda x, y: x + y, nums)  # Output: 10\n",
        "\n",
        "- 11.Internal Mechanism using reduce() for [47, 11, 42, 13]:\n",
        "Using pen & paper, show steps:\n",
        "\n",
        "  47 + 11 = 58\n",
        "\n",
        "  58 + 42 = 100\n",
        "\n",
        "  100 + 13 = 113\n",
        "\n",
        "  Python:\n",
        "\n",
        "\n",
        "  from functools import reduce\n",
        "\n",
        "  reduce(lambda x, y: x + y, [47, 11, 42, 13])"
      ],
      "metadata": {
        "id": "evHvqALUWvpz"
      }
    },
    {
      "cell_type": "markdown",
      "source": [
        "# Practical Questions"
      ],
      "metadata": {
        "id": "u2-vlR3Iawuc"
      }
    },
    {
      "cell_type": "markdown",
      "source": [
        "- 1.Sum of all even numbers in a list"
      ],
      "metadata": {
        "id": "pU9JIEEqa_hr"
      }
    },
    {
      "cell_type": "code",
      "source": [
        "def sum_even_numbers(lst):\n",
        "    return sum(x for x in lst if x % 2 == 0)"
      ],
      "metadata": {
        "id": "PRFepLWibIe7"
      },
      "execution_count": 3,
      "outputs": []
    },
    {
      "cell_type": "markdown",
      "source": [
        "- 2.Reverse a string"
      ],
      "metadata": {
        "id": "sYo3vRoVbZzK"
      }
    },
    {
      "cell_type": "code",
      "source": [
        "def reverse_string(s):\n",
        "    return s[::-1]"
      ],
      "metadata": {
        "id": "MmGEtL8dbdYy"
      },
      "execution_count": 4,
      "outputs": []
    },
    {
      "cell_type": "markdown",
      "source": [
        "- 3.Square each element in a list"
      ],
      "metadata": {
        "id": "F-xdP7r-bod3"
      }
    },
    {
      "cell_type": "code",
      "source": [
        "def square_list(lst):\n",
        "    return [x**2 for x in lst]"
      ],
      "metadata": {
        "id": "h-l-wXTMbql0"
      },
      "execution_count": 5,
      "outputs": []
    },
    {
      "cell_type": "markdown",
      "source": [
        "- 4.Check if a number is prime (1–200)"
      ],
      "metadata": {
        "id": "JsBN0wzTbzF1"
      }
    },
    {
      "cell_type": "code",
      "source": [
        "def is_prime(n):\n",
        "    if n < 2:\n",
        "        return False\n",
        "    for i in range(2, int(n**0.5)+1):\n",
        "        if n % i == 0:\n",
        "            return False\n",
        "    return True"
      ],
      "metadata": {
        "id": "QAk65qhxb5q8"
      },
      "execution_count": 6,
      "outputs": []
    },
    {
      "cell_type": "markdown",
      "source": [
        "- 5.Fibonacci sequence generator up to n terms"
      ],
      "metadata": {
        "id": "ysWObGvUcI_C"
      }
    },
    {
      "cell_type": "code",
      "source": [
        "def fibonacci(n):\n",
        "    seq = [0, 1]\n",
        "    for _ in range(n-2):\n",
        "        seq.append(seq[-1] + seq[-2])\n",
        "    return seq[:n]"
      ],
      "metadata": {
        "id": "KECHIz8lcPuL"
      },
      "execution_count": 7,
      "outputs": []
    },
    {
      "cell_type": "markdown",
      "source": [
        "- 6.Generator for powers of 2 up to n"
      ],
      "metadata": {
        "id": "g1TDb7qacYZa"
      }
    },
    {
      "cell_type": "code",
      "source": [
        "def power_of_two(n):\n",
        "    for i in range(n+1):\n",
        "        yield 2 ** i"
      ],
      "metadata": {
        "id": "81gnvK0kcagk"
      },
      "execution_count": 8,
      "outputs": []
    },
    {
      "cell_type": "markdown",
      "source": [
        "- 7.Read file line by line and yield each line"
      ],
      "metadata": {
        "id": "uS_nba7_ciJE"
      }
    },
    {
      "cell_type": "code",
      "source": [
        "def read_file_lines(filename):\n",
        "    with open(filename) as f:\n",
        "        for line in f:\n",
        "            yield line.strip()"
      ],
      "metadata": {
        "id": "p_oKZ--ockGj"
      },
      "execution_count": 9,
      "outputs": []
    },
    {
      "cell_type": "markdown",
      "source": [
        "- 8.Sort list of tuples by second element"
      ],
      "metadata": {
        "id": "RU32-XGJctMM"
      }
    },
    {
      "cell_type": "code",
      "source": [
        "tuples = [(1, 3), (2, 1), (4, 2)]\n",
        "sorted_tuples = sorted(tuples, key=lambda x: x[1])"
      ],
      "metadata": {
        "id": "vwfDGl-JcvVM"
      },
      "execution_count": 10,
      "outputs": []
    },
    {
      "cell_type": "markdown",
      "source": [
        "- 9.Convert Celsius to Fahrenheit using map()"
      ],
      "metadata": {
        "id": "sFIA2IIBc3ID"
      }
    },
    {
      "cell_type": "code",
      "source": [
        "celsius = [0, 20, 37, 100]\n",
        "fahrenheit = list(map(lambda c: (c * 9/5) + 32, celsius))"
      ],
      "metadata": {
        "id": "aSya_7Eqc5Zr"
      },
      "execution_count": 11,
      "outputs": []
    },
    {
      "cell_type": "markdown",
      "source": [
        "- 10.Remove vowels using filter()"
      ],
      "metadata": {
        "id": "7sqvx1nxc_4K"
      }
    },
    {
      "cell_type": "code",
      "source": [
        "def remove_vowels(s):\n",
        "    return ''.join(filter(lambda x: x.lower() not in 'aeiou', s))"
      ],
      "metadata": {
        "id": "xjkiM-PHdL2b"
      },
      "execution_count": 12,
      "outputs": []
    },
    {
      "cell_type": "markdown",
      "source": [
        "- 11.Accounting utility with lambda and map"
      ],
      "metadata": {
        "id": "XkfE23nTdQpT"
      }
    },
    {
      "cell_type": "code",
      "source": [
        "data = [\n",
        "    [34587, 'Learning Python, Mark Lutz', 4, 40.95],\n",
        "    [98762, 'Programming Python, Mark Lutz', 5, 56.80],\n",
        "    [77226, 'Head First Python, Paul Barry', 3, 32.95],\n",
        "    [88112, 'Einführung in Python3, Bernd Klein', 3, 24.99]\n",
        "]\n",
        "\n",
        "invoice = list(map(lambda x: (x[0], x[2] * x[3] if x[2] * x[3] > 100 else x[2] * x[3] + 10), data))"
      ],
      "metadata": {
        "id": "f9sePnrTdqDC"
      },
      "execution_count": 13,
      "outputs": []
    }
  ]
}